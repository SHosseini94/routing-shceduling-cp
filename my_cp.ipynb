{
 "cells": [
  {
   "cell_type": "code",
   "execution_count": 6,
   "id": "acquired-heritage",
   "metadata": {},
   "outputs": [],
   "source": [
    "from docplex.cp.model import *\n",
    "from gurobipy import * "
   ]
  },
  {
   "cell_type": "code",
   "execution_count": 11,
   "id": "fitted-sheffield",
   "metadata": {},
   "outputs": [],
   "source": [
    "def subproblem(k,C,D,I,p,t,T,L):\n",
    "# this function creates subproblem using docplex.cp modeling \n",
    "# input parameters \n",
    "    # k: the driver number \n",
    "    # C: y variable of master problem for driver k\n",
    "    # D: number of planning days\n",
    "    # p: the service duration of customers \n",
    "    # t: the travel time between customers and depots\n",
    "    # T: the time limit for each day \n",
    "    # L: the accpeted arrival difference for each customer \n",
    "\n",
    "# calculating n_d number of customers should be visited by driver on each day \n",
    "    n=[len(C[d]) for d in D] \n",
    "# Calculate different customers assigned to this driver \n",
    "    l=[set(C[d]) for d in D]\n",
    "    diffC=list(set().union(*l))\n",
    "#Create Model using cplex cp optimizer \n",
    "    sub=CpoModel()\n",
    "    \n",
    "#Create Decision Variable\n",
    "    # sequencing variable for all days \n",
    "    x={d:sub.integer_var_list(n[d],0, len(I)-1,\"X\") for d in D}\n",
    "    # start variable of each customer \n",
    "    start={d:{i:sub.interval_var(start=[t[0][i],T-p[i,d]-t[i][len(I)-1]],size=p[i,d]) for i in C[d]} for d in D}\n",
    "    #seq={d:sub.sequence_var([start[d][i] for i in C[d]]) for d in D}\n",
    "#Create Constraints \n",
    "    # create all_different constraint for each day \n",
    "    for d in D:\n",
    "        sub.add(sub.all_diff(x[d]))\n",
    "    \n",
    "    for d in D:\n",
    "        sub.add(sub.element(x[d],0)==0)                    # the first and last visited node is depot in all days\n",
    "        sub.add(sub.element(x[d],n[d]-1)==len(I)-1)\n",
    "        sub.add(sub.element(start[d],0)==0)                # the start time of depot is 0\n",
    "        sub.add(sub.sum(sub.end_of(start[d][x[d][n[d]-2]]),t[x[d][n[d]-2]][x[d][n[d]-1]])<=T) # time limit \n",
    "        for v in range(n[d]-1):\n",
    "            sub.add(sub.end_at_start(start[d][x[d][v]],start[d][x[d][v+1]],t[x[d][v]][x[d][v+1]]))   #travel time between nodes \n",
    "    \n",
    "    # list of start time for each customer \n",
    "    diffS={i:[start[d][i] for d in D if i in C[d]] for i in diffC}\n",
    "    for i in diffC:\n",
    "        sub.add(sub.abs(sub.max(diffS[i]),sub.min(diffS[i]))<=L) # the maximum allowed arrival difference          \n",
    "            \n",
    "#Write a model\n",
    "    sub.export_model()\n",
    "    \n",
    "    return sub"
   ]
  },
  {
   "cell_type": "code",
   "execution_count": 12,
   "id": "streaming-sodium",
   "metadata": {},
   "outputs": [],
   "source": [
    "#Enter set and parameters \n",
    "    #I: a list containing customers, the first and last customer index is for depot\n",
    "I=range(12) #I[0] and I[11] are depot and we have 10 real customer \n",
    "    #K: a list containing drivers \n",
    "K=range(5)  \n",
    "    #D: a list containing planning days \n",
    "D=range(5)   #we have 5 days 0:Mo, 1:Tu, 2:We, 3:Th, 4:Fr\n",
    "    #[q,p]: a list containing demand requirments and service time per visit day-customer available combinations\n",
    "    #vDays: a tuplelist containing available combinations of customer-request day\n",
    "vDays,q,p=multidict({(0,0):[0,0],(0,1):[0,0],(0,2):[0,0],(0,3):[0,0],(0,4):[0,0],\n",
    "                      (1,0):[10,10], (1,3):[5,5], (2,1):[4,4], (3,0):[10,10], (3,1):[10,10],(3,2):[10,10],\n",
    "                     (4,4):[8,8],(5,1):[10,10], (5,4):[5,5],(6,0):[6,6],\n",
    "                      (6,2):[10,10],(6,4):[10,10],(7,1):[9,9],(7,3):[11,11],(8,3):[10,10],(9,2):[10,10],\n",
    "                     (10,1):[8,8],(10,2):[10,10],(10,3):[15,15],(11,0):[0,0],(11,1):[0,0],\n",
    "                      (11,2):[0,0],(11,3):[0,0],(11,4):[0,0]})\n",
    "    #Q: the capacity limit of each driver \n",
    "Q=30\n",
    "    #T: the time limit of each driver \n",
    "T=480 # it is in minutes \n",
    "    #L: the maximum allowed arrtival time difference \n",
    "L=20 # it is in minutes \n",
    "     #time travel in an upper triangular matrix\n",
    "travel=[[10,20,20,50,30,10,60,40,80,20,0],\n",
    "       [30,50,60,10,40,70,50,40,80,10],\n",
    "       [90,50,30,70,40,50,60,80,20],\n",
    "       [100,40,20,30,10,70,50,20],\n",
    "       [20,40,50,90,70,20,50],\n",
    "       [30,50,60,40,80,30],\n",
    "       [40,70,100,90,10],\n",
    "       [40,30,60,60],\n",
    "       [90,70,40],\n",
    "       [90,80],\n",
    "       [20],\n",
    "       []]\n",
    "    \n",
    "    #travel time matrix\n",
    "t=[[0 if i == j\n",
    "      else travel[i][j-i-1] if j > i\n",
    "      else travel[j][i-j-1]\n",
    "      for j in I] for i in I]\n"
   ]
  },
  {
   "cell_type": "code",
   "execution_count": 13,
   "id": "dirty-electronics",
   "metadata": {},
   "outputs": [
    {
     "ename": "KeyError",
     "evalue": "<docplex.cp.expression.CpoIntVar object at 0x00000283C7FB4900>",
     "output_type": "error",
     "traceback": [
      "\u001b[1;31m---------------------------------------------------------------------------\u001b[0m",
      "\u001b[1;31mKeyError\u001b[0m                                  Traceback (most recent call last)",
      "\u001b[1;32m<ipython-input-13-3838c1c432ec>\u001b[0m in \u001b[0;36m<module>\u001b[1;34m\u001b[0m\n\u001b[0;32m      6\u001b[0m \u001b[0mk\u001b[0m\u001b[1;33m=\u001b[0m\u001b[1;36m0\u001b[0m\u001b[1;33m\u001b[0m\u001b[1;33m\u001b[0m\u001b[0m\n\u001b[0;32m      7\u001b[0m \u001b[0mn\u001b[0m\u001b[1;33m=\u001b[0m\u001b[1;33m[\u001b[0m\u001b[1;36m4\u001b[0m\u001b[1;33m,\u001b[0m\u001b[1;36m4\u001b[0m\u001b[1;33m,\u001b[0m\u001b[1;36m5\u001b[0m\u001b[1;33m,\u001b[0m\u001b[1;36m4\u001b[0m\u001b[1;33m,\u001b[0m\u001b[1;36m2\u001b[0m\u001b[1;33m]\u001b[0m\u001b[1;33m\u001b[0m\u001b[1;33m\u001b[0m\u001b[0m\n\u001b[1;32m----> 8\u001b[1;33m \u001b[0msub\u001b[0m\u001b[1;33m=\u001b[0m\u001b[0msubproblem\u001b[0m\u001b[1;33m(\u001b[0m\u001b[0mk\u001b[0m\u001b[1;33m,\u001b[0m\u001b[0mC\u001b[0m\u001b[1;33m,\u001b[0m\u001b[0mD\u001b[0m\u001b[1;33m,\u001b[0m\u001b[0mI\u001b[0m\u001b[1;33m,\u001b[0m\u001b[0mp\u001b[0m\u001b[1;33m,\u001b[0m\u001b[0mt\u001b[0m\u001b[1;33m,\u001b[0m\u001b[0mT\u001b[0m\u001b[1;33m,\u001b[0m\u001b[0mL\u001b[0m\u001b[1;33m)\u001b[0m\u001b[1;33m\u001b[0m\u001b[1;33m\u001b[0m\u001b[0m\n\u001b[0m",
      "\u001b[1;32m<ipython-input-11-831280d9449f>\u001b[0m in \u001b[0;36msubproblem\u001b[1;34m(k, C, D, I, p, t, T, L)\u001b[0m\n\u001b[0;32m     33\u001b[0m         \u001b[0msub\u001b[0m\u001b[1;33m.\u001b[0m\u001b[0madd\u001b[0m\u001b[1;33m(\u001b[0m\u001b[0msub\u001b[0m\u001b[1;33m.\u001b[0m\u001b[0melement\u001b[0m\u001b[1;33m(\u001b[0m\u001b[0mx\u001b[0m\u001b[1;33m[\u001b[0m\u001b[0md\u001b[0m\u001b[1;33m]\u001b[0m\u001b[1;33m,\u001b[0m\u001b[0mn\u001b[0m\u001b[1;33m[\u001b[0m\u001b[0md\u001b[0m\u001b[1;33m]\u001b[0m\u001b[1;33m-\u001b[0m\u001b[1;36m1\u001b[0m\u001b[1;33m)\u001b[0m\u001b[1;33m==\u001b[0m\u001b[0mlen\u001b[0m\u001b[1;33m(\u001b[0m\u001b[0mI\u001b[0m\u001b[1;33m)\u001b[0m\u001b[1;33m-\u001b[0m\u001b[1;36m1\u001b[0m\u001b[1;33m)\u001b[0m\u001b[1;33m\u001b[0m\u001b[1;33m\u001b[0m\u001b[0m\n\u001b[0;32m     34\u001b[0m         \u001b[0msub\u001b[0m\u001b[1;33m.\u001b[0m\u001b[0madd\u001b[0m\u001b[1;33m(\u001b[0m\u001b[0msub\u001b[0m\u001b[1;33m.\u001b[0m\u001b[0melement\u001b[0m\u001b[1;33m(\u001b[0m\u001b[0mstart\u001b[0m\u001b[1;33m[\u001b[0m\u001b[0md\u001b[0m\u001b[1;33m]\u001b[0m\u001b[1;33m,\u001b[0m\u001b[1;36m0\u001b[0m\u001b[1;33m)\u001b[0m\u001b[1;33m==\u001b[0m\u001b[1;36m0\u001b[0m\u001b[1;33m)\u001b[0m                \u001b[1;31m# the start time of depot is 0\u001b[0m\u001b[1;33m\u001b[0m\u001b[1;33m\u001b[0m\u001b[0m\n\u001b[1;32m---> 35\u001b[1;33m         \u001b[0msub\u001b[0m\u001b[1;33m.\u001b[0m\u001b[0madd\u001b[0m\u001b[1;33m(\u001b[0m\u001b[0msub\u001b[0m\u001b[1;33m.\u001b[0m\u001b[0msum\u001b[0m\u001b[1;33m(\u001b[0m\u001b[0msub\u001b[0m\u001b[1;33m.\u001b[0m\u001b[0mend_of\u001b[0m\u001b[1;33m(\u001b[0m\u001b[0mstart\u001b[0m\u001b[1;33m[\u001b[0m\u001b[0md\u001b[0m\u001b[1;33m]\u001b[0m\u001b[1;33m[\u001b[0m\u001b[0mx\u001b[0m\u001b[1;33m[\u001b[0m\u001b[0md\u001b[0m\u001b[1;33m]\u001b[0m\u001b[1;33m[\u001b[0m\u001b[0mn\u001b[0m\u001b[1;33m[\u001b[0m\u001b[0md\u001b[0m\u001b[1;33m]\u001b[0m\u001b[1;33m-\u001b[0m\u001b[1;36m2\u001b[0m\u001b[1;33m]\u001b[0m\u001b[1;33m]\u001b[0m\u001b[1;33m)\u001b[0m\u001b[1;33m,\u001b[0m\u001b[0mt\u001b[0m\u001b[1;33m[\u001b[0m\u001b[0mx\u001b[0m\u001b[1;33m[\u001b[0m\u001b[0md\u001b[0m\u001b[1;33m]\u001b[0m\u001b[1;33m[\u001b[0m\u001b[0mn\u001b[0m\u001b[1;33m[\u001b[0m\u001b[0md\u001b[0m\u001b[1;33m]\u001b[0m\u001b[1;33m-\u001b[0m\u001b[1;36m2\u001b[0m\u001b[1;33m]\u001b[0m\u001b[1;33m]\u001b[0m\u001b[1;33m[\u001b[0m\u001b[0mx\u001b[0m\u001b[1;33m[\u001b[0m\u001b[0md\u001b[0m\u001b[1;33m]\u001b[0m\u001b[1;33m[\u001b[0m\u001b[0mn\u001b[0m\u001b[1;33m[\u001b[0m\u001b[0md\u001b[0m\u001b[1;33m]\u001b[0m\u001b[1;33m-\u001b[0m\u001b[1;36m1\u001b[0m\u001b[1;33m]\u001b[0m\u001b[1;33m]\u001b[0m\u001b[1;33m)\u001b[0m\u001b[1;33m<=\u001b[0m\u001b[0mT\u001b[0m\u001b[1;33m)\u001b[0m \u001b[1;31m# time limit\u001b[0m\u001b[1;33m\u001b[0m\u001b[1;33m\u001b[0m\u001b[0m\n\u001b[0m\u001b[0;32m     36\u001b[0m         \u001b[1;32mfor\u001b[0m \u001b[0mv\u001b[0m \u001b[1;32min\u001b[0m \u001b[0mrange\u001b[0m\u001b[1;33m(\u001b[0m\u001b[0mn\u001b[0m\u001b[1;33m[\u001b[0m\u001b[0md\u001b[0m\u001b[1;33m]\u001b[0m\u001b[1;33m-\u001b[0m\u001b[1;36m1\u001b[0m\u001b[1;33m)\u001b[0m\u001b[1;33m:\u001b[0m\u001b[1;33m\u001b[0m\u001b[1;33m\u001b[0m\u001b[0m\n\u001b[0;32m     37\u001b[0m             \u001b[0msub\u001b[0m\u001b[1;33m.\u001b[0m\u001b[0madd\u001b[0m\u001b[1;33m(\u001b[0m\u001b[0msub\u001b[0m\u001b[1;33m.\u001b[0m\u001b[0mend_at_start\u001b[0m\u001b[1;33m(\u001b[0m\u001b[0mstart\u001b[0m\u001b[1;33m[\u001b[0m\u001b[0md\u001b[0m\u001b[1;33m]\u001b[0m\u001b[1;33m[\u001b[0m\u001b[0mx\u001b[0m\u001b[1;33m[\u001b[0m\u001b[0md\u001b[0m\u001b[1;33m]\u001b[0m\u001b[1;33m[\u001b[0m\u001b[0mv\u001b[0m\u001b[1;33m]\u001b[0m\u001b[1;33m]\u001b[0m\u001b[1;33m,\u001b[0m\u001b[0mstart\u001b[0m\u001b[1;33m[\u001b[0m\u001b[0md\u001b[0m\u001b[1;33m]\u001b[0m\u001b[1;33m[\u001b[0m\u001b[0mx\u001b[0m\u001b[1;33m[\u001b[0m\u001b[0md\u001b[0m\u001b[1;33m]\u001b[0m\u001b[1;33m[\u001b[0m\u001b[0mv\u001b[0m\u001b[1;33m+\u001b[0m\u001b[1;36m1\u001b[0m\u001b[1;33m]\u001b[0m\u001b[1;33m]\u001b[0m\u001b[1;33m,\u001b[0m\u001b[0mt\u001b[0m\u001b[1;33m[\u001b[0m\u001b[0mx\u001b[0m\u001b[1;33m[\u001b[0m\u001b[0md\u001b[0m\u001b[1;33m]\u001b[0m\u001b[1;33m[\u001b[0m\u001b[0mv\u001b[0m\u001b[1;33m]\u001b[0m\u001b[1;33m]\u001b[0m\u001b[1;33m[\u001b[0m\u001b[0mx\u001b[0m\u001b[1;33m[\u001b[0m\u001b[0md\u001b[0m\u001b[1;33m]\u001b[0m\u001b[1;33m[\u001b[0m\u001b[0mv\u001b[0m\u001b[1;33m+\u001b[0m\u001b[1;36m1\u001b[0m\u001b[1;33m]\u001b[0m\u001b[1;33m]\u001b[0m\u001b[1;33m)\u001b[0m\u001b[1;33m)\u001b[0m   \u001b[1;31m#travel time between nodes\u001b[0m\u001b[1;33m\u001b[0m\u001b[1;33m\u001b[0m\u001b[0m\n",
      "\u001b[1;31mKeyError\u001b[0m: <docplex.cp.expression.CpoIntVar object at 0x00000283C7FB4900>"
     ]
    }
   ],
   "source": [
    "C={0: [0, 1, 3, 11],\n",
    "  1: [0, 3, 10, 11],\n",
    "  2: [0, 3, 9, 10, 11],\n",
    "  3: [0, 1, 10, 11],\n",
    "  4: [0, 11]}\n",
    "k=0\n",
    "n=[4,4,5,4,2]\n",
    "sub=subproblem(k,C,D,I,p,t,T,L)"
   ]
  },
  {
   "cell_type": "code",
   "execution_count": null,
   "id": "martial-nelson",
   "metadata": {},
   "outputs": [],
   "source": []
  }
 ],
 "metadata": {
  "kernelspec": {
   "display_name": "Python 3",
   "language": "python",
   "name": "python3"
  },
  "language_info": {
   "codemirror_mode": {
    "name": "ipython",
    "version": 3
   },
   "file_extension": ".py",
   "mimetype": "text/x-python",
   "name": "python",
   "nbconvert_exporter": "python",
   "pygments_lexer": "ipython3",
   "version": "3.8.3"
  }
 },
 "nbformat": 4,
 "nbformat_minor": 5
}
